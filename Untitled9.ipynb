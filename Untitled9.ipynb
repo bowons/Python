{
  "nbformat": 4,
  "nbformat_minor": 0,
  "metadata": {
    "colab": {
      "provenance": [],
      "authorship_tag": "ABX9TyP26wJh5AJY6wymvAs38ozo",
      "include_colab_link": true
    },
    "kernelspec": {
      "name": "python3",
      "display_name": "Python 3"
    },
    "language_info": {
      "name": "python"
    }
  },
  "cells": [
    {
      "cell_type": "markdown",
      "metadata": {
        "id": "view-in-github",
        "colab_type": "text"
      },
      "source": [
        "<a href=\"https://colab.research.google.com/github/bowons/Python/blob/main/Untitled9.ipynb\" target=\"_parent\"><img src=\"https://colab.research.google.com/assets/colab-badge.svg\" alt=\"Open In Colab\"/></a>"
      ]
    },
    {
      "cell_type": "code",
      "execution_count": 2,
      "metadata": {
        "id": "W_HVqz0RBBR4"
      },
      "outputs": [],
      "source": [
        "import itertools\n",
        "\n",
        "def is_prime(num):\n",
        "    if num < 2:\n",
        "        return False\n",
        "    for i in range(2, int(num ** 0.5) + 1):\n",
        "        if num % i == 0:\n",
        "            return False\n",
        "    return True\n",
        "\n",
        "def solution(nums):\n",
        "    combinations = itertools.combinations(nums, 3)\n",
        "    count = 0\n",
        "    for comb in combinations:\n",
        "        total = sum(comb)\n",
        "        if is_prime(total):\n",
        "            count += 1\n",
        "    return count"
      ]
    },
    {
      "cell_type": "code",
      "source": [
        "import itertools"
      ],
      "metadata": {
        "id": "Yr8pdoGEUngf"
      },
      "execution_count": null,
      "outputs": []
    },
    {
      "cell_type": "markdown",
      "source": [
        "itertools 모듈은 순열, 조합과 관련된 기능을 수행할 수 있도록 구성된 외부 라이브러리이다."
      ],
      "metadata": {
        "id": "FdPpfwI2Upv8"
      }
    },
    {
      "cell_type": "code",
      "source": [
        "def is_prime(num):\n",
        "    if num < 2:\n",
        "        return False\n",
        "    for i in range(2, int(num ** 0.5) + 1):\n",
        "        if num % i == 0:\n",
        "            return False\n",
        "    return True"
      ],
      "metadata": {
        "id": "oV4oG3nIVAuO"
      },
      "execution_count": null,
      "outputs": []
    },
    {
      "cell_type": "markdown",
      "source": [
        "is prime 함수는 받은 인자값의 제곱근까지 나누어 떨어지는 수가 있는지 확인하는, 즉 소수인지를 판별하는 함수이다.<br> 여기서,\n",
        "\n",
        "```\n",
        "for i in range(2, int(num ** 0.5) + 1):\n",
        "```\n",
        "이 부분은 num의 0.5승, 즉 제곱근에 해당하는 값을 int로 변환하여 ceil함수와 같은 역할을 수행하도록 변경한 것이다.\n",
        ""
      ],
      "metadata": {
        "id": "-NtHgJHFVFax"
      }
    },
    {
      "cell_type": "code",
      "source": [
        "def solution(nums):\n",
        "    combinations = itertools.combinations(nums, 3)\n",
        "    count = 0\n",
        "    for comb in combinations:\n",
        "        total = sum(comb)\n",
        "        if is_prime(total):\n",
        "            count += 1\n",
        "    return count"
      ],
      "metadata": {
        "id": "lml9hiBlVM0T"
      },
      "execution_count": null,
      "outputs": []
    },
    {
      "cell_type": "markdown",
      "source": [
        "solution 함수는 입력받은 리스트에서 3가지를 선택하는 조합의 수를 모두 골라 더한 후, 그 값이 소수인지 판별한다. <br>\n",
        "combinations(num,3)의 결과 값으로 리스트에서 3개를 선택한 조합의 리스트가 반환되고 이를 for문으로 루프하여 합이 소수인 count 개수를 증가시킨다.\n",
        "\n",
        "결과값으로 이를 반환한다."
      ],
      "metadata": {
        "id": "sqPVmPawVwTV"
      }
    }
  ]
}