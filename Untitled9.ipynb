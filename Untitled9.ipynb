{
  "nbformat": 4,
  "nbformat_minor": 0,
  "metadata": {
    "colab": {
      "provenance": [],
      "authorship_tag": "ABX9TyPEiE4akxfY8mlKHlDpctln",
      "include_colab_link": true
    },
    "kernelspec": {
      "name": "python3",
      "display_name": "Python 3"
    },
    "language_info": {
      "name": "python"
    }
  },
  "cells": [
    {
      "cell_type": "markdown",
      "metadata": {
        "id": "view-in-github",
        "colab_type": "text"
      },
      "source": [
        "<a href=\"https://colab.research.google.com/github/bowons/Python/blob/main/Untitled9.ipynb\" target=\"_parent\"><img src=\"https://colab.research.google.com/assets/colab-badge.svg\" alt=\"Open In Colab\"/></a>"
      ]
    },
    {
      "cell_type": "code",
      "execution_count": 2,
      "metadata": {
        "id": "W_HVqz0RBBR4"
      },
      "outputs": [],
      "source": [
        "import itertools\n",
        "\n",
        "def is_prime(num):\n",
        "    if num < 2:\n",
        "        return False\n",
        "    for i in range(2, int(num ** 0.5) + 1):\n",
        "        if num % i == 0:\n",
        "            return False\n",
        "    return True\n",
        "\n",
        "def solution(nums):\n",
        "    combinations = itertools.combinations(nums, 3)\n",
        "    count = 0\n",
        "    for comb in combinations:\n",
        "        total = sum(comb)\n",
        "        if is_prime(total):\n",
        "            count += 1\n",
        "    return count"
      ]
    },
    {
      "cell_type": "markdown",
      "source": [
        "is prime 함수는 받은 인자값의 제곱근까지 나누어 떨어지는 수가 있는지 확인하는, 즉 소수인지를 판별하는 함수이다.\n",
        "\n",
        "solution 함수는 입력받은 리스트에서 3가지를 선택하는 조합의 수를 모두 골라 더한 후, 그 값이 소수인지 판별한다. 이후, 모든 선택지 중 합이 소수인 경우의 count를 반환함"
      ],
      "metadata": {
        "id": "PXk9H3ryPrny"
      }
    }
  ]
}