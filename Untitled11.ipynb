{
  "nbformat": 4,
  "nbformat_minor": 0,
  "metadata": {
    "colab": {
      "provenance": [],
      "authorship_tag": "ABX9TyPmiISYAWTwr4zVINOZx/Ou",
      "include_colab_link": true
    },
    "kernelspec": {
      "name": "python3",
      "display_name": "Python 3"
    },
    "language_info": {
      "name": "python"
    }
  },
  "cells": [
    {
      "cell_type": "markdown",
      "metadata": {
        "id": "view-in-github",
        "colab_type": "text"
      },
      "source": [
        "<a href=\"https://colab.research.google.com/github/bowons/Python/blob/main/Untitled11.ipynb\" target=\"_parent\"><img src=\"https://colab.research.google.com/assets/colab-badge.svg\" alt=\"Open In Colab\"/></a>"
      ]
    },
    {
      "cell_type": "code",
      "execution_count": 7,
      "metadata": {
        "id": "wUDPsgQBnOS-",
        "colab": {
          "base_uri": "https://localhost:8080/"
        },
        "outputId": "b1c0c27d-ecd0-4a82-b7b4-ad859e5250ec"
      },
      "outputs": [
        {
          "output_type": "stream",
          "name": "stdout",
          "text": [
            "숫자 두개를 입력해주세요3 0\n",
            "입력한 숫자를 확인해주세요.\n",
            "calculation completed\n"
          ]
        }
      ],
      "source": [
        "a, b = map(int, input(\"숫자 두개를 입력해주세요\").split())\n",
        "try:\n",
        "  c = a / b\n",
        "except:\n",
        "  print(\"입력한 숫자를 확인해주세요.\")\n",
        "else:\n",
        "  print(f'{a} / {b} = {c}')\n",
        "finally:\n",
        "  print(\"calculation completed\")"
      ]
    },
    {
      "cell_type": "markdown",
      "source": [
        "# 실습과제 3\n",
        "두 개의 자연수를 입력 받아서 나눗셈을 하는 Python code 를 작성한다.\n",
        "Python code는 Jupyter notebook 파일로 만든다.\n",
        "입력 오류, 계산 오류에 대한 예외처리를 구현한다.\n",
        "\n",
        "- 요구사항은 수업시간에 했던 내용 그대로인 간단한 코드를 필요로 한다.\n",
        "- 여기서는 try except 구문을 위주로 설명하려고 한다."
      ],
      "metadata": {
        "id": "ow9NkiAcr8kS"
      }
    },
    {
      "cell_type": "code",
      "source": [
        "a, b = map(int, input(\"숫자 두개를 입력하세요 \").split())"
      ],
      "metadata": {
        "id": "yzE2yLJcsoPa"
      },
      "execution_count": null,
      "outputs": []
    },
    {
      "cell_type": "markdown",
      "source": [
        "- 띄워쓰기로 숫자 2개를 입력받을 수 있다."
      ],
      "metadata": {
        "id": "lOdJOB9suQRq"
      }
    },
    {
      "cell_type": "code",
      "source": [
        "try:\n",
        "  c = a / b"
      ],
      "metadata": {
        "id": "Grpp_XAOuK8B"
      },
      "execution_count": null,
      "outputs": []
    },
    {
      "cell_type": "markdown",
      "source": [
        "- try 구문에서는 예외가 발생할 것 같은 statement를 배치한다. 만약 b가 0이여서 0으로 나누기 예외가 발생할 경우 exception이 발생한다."
      ],
      "metadata": {
        "id": "shM6gR3Bubp5"
      }
    },
    {
      "cell_type": "code",
      "source": [
        "except:\n",
        "  print(\"입력한 숫자를 확인해주세요.\")\n",
        "else:\n",
        "  print(f'{a} / {b} = {c}')"
      ],
      "metadata": {
        "id": "qI-Eb6j0uu6t"
      },
      "execution_count": null,
      "outputs": []
    },
    {
      "cell_type": "markdown",
      "source": [
        "- 발생한 execption은 except 구문에서 처리된다, try: 블럭 안에서 예외가 발생하더라도 프로그램이 종료되는 것이 아니라 except 블럭 안의 statement들이 실행되며 프로그램은 정상적으로 수행된다.\n",
        "\n",
        "- 예외가 발생하지 않았다면 else: 블럭 내의 문장이 실행되며 결과가 출력된다."
      ],
      "metadata": {
        "id": "KEbJ7RVjuvi7"
      }
    },
    {
      "cell_type": "code",
      "source": [
        "finally:\n",
        "  print(\"calculation completed\")"
      ],
      "metadata": {
        "id": "QnugnhLCvDN1"
      },
      "execution_count": null,
      "outputs": []
    },
    {
      "cell_type": "markdown",
      "source": [
        "- finally 블럭에서는 except, else 블럭의 statement 실행과는 무관하게 반드시 수행되는 statement가 담긴다.\n",
        "- FIle IO처리 등 꼭 변수 설정이 필요하거나, try 블럭에서 수행되는 작업의 후처리가 필요할 경우 유용하게 사용될 수 있다."
      ],
      "metadata": {
        "id": "NyVOfW9mvGT0"
      }
    },
    {
      "cell_type": "markdown",
      "source": [
        "# 실행 결과\n",
        "따라서 실행 결과는 정상적으로 나누기가 되는 경우와 그렇지 않은 경우 2가지로 나누어진다.\n",
        "\n",
        "- 정상적인 경우\n",
        "```\n",
        "숫자 두개를 입력해주세요2 5\n",
        "2 / 5 = 0.4\n",
        "calculation completed\n",
        "```\n",
        "\n",
        "- 0으로 나누기를 시도한 경우\n",
        "```\n",
        "숫자 두개를 입력해주세요3 0\n",
        "입력한 숫자를 확인해주세요.\n",
        "calculation completed\n",
        "```\n",
        "\n",
        "- finally 블럭의 statement가 결과와는 무관하게 실행되는 것을 확인할 수 있다.\n",
        "\n",
        "\n",
        "\n",
        "\n"
      ],
      "metadata": {
        "id": "KD5iTToIvoZ7"
      }
    }
  ]
}