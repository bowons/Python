{
  "nbformat": 4,
  "nbformat_minor": 0,
  "metadata": {
    "colab": {
      "provenance": [],
      "authorship_tag": "ABX9TyMYkR9lm/BlfvpeRlrNCNHa",
      "include_colab_link": true
    },
    "kernelspec": {
      "name": "python3",
      "display_name": "Python 3"
    },
    "language_info": {
      "name": "python"
    }
  },
  "cells": [
    {
      "cell_type": "markdown",
      "metadata": {
        "id": "view-in-github",
        "colab_type": "text"
      },
      "source": [
        "<a href=\"https://colab.research.google.com/github/bowons/Python/blob/main/Untitled10.ipynb\" target=\"_parent\"><img src=\"https://colab.research.google.com/assets/colab-badge.svg\" alt=\"Open In Colab\"/></a>"
      ]
    },
    {
      "cell_type": "markdown",
      "source": [
        "# 도전과제 1\n",
        "소인수 분해 인수 출력하기\n",
        "- 소인수분해란 어떤 수를 소수들의 곱으로 표현하는 것입니다. 예를 들어 12를 소인수 분해하면 2 * 2 * 3 으로 나타낼 수 있습니다. 따라서 12의 소인수는 2와 3입니다. 자연수 n이 매개변수로 주어질 때 n의 소인수를 오름차순으로 담은 배열을 return하도록 solution 함수를 완성해주세요."
      ],
      "metadata": {
        "id": "VbEwUnwRWqYA"
      }
    },
    {
      "cell_type": "code",
      "execution_count": null,
      "metadata": {
        "colab": {
          "base_uri": "https://localhost:8080/"
        },
        "id": "lh0S9ruOWoTb",
        "outputId": "97df7612-f315-4e20-d443-83849dfd7cbf"
      },
      "outputs": [
        {
          "output_type": "stream",
          "name": "stdout",
          "text": [
            "숫자 입력7\n",
            "[7]\n"
          ]
        }
      ],
      "source": [
        "def solution(number):\n",
        "  result = []\n",
        "\n",
        "  factor = 2\n",
        "  while factor <= number:\n",
        "    if number % factor == 0:\n",
        "      number /= factor\n",
        "      if not factor in result:\n",
        "        result.append(factor)\n",
        "    else:\n",
        "      factor += 1\n",
        "\n",
        "  return result\n",
        "\n",
        "n = int(input(\"숫자 입력\"))\n",
        "print(solution(n))"
      ]
    },
    {
      "cell_type": "markdown",
      "source": [
        "위 함수는 number를 입력받고 기본 소인수 2를 설정하여 number를 나누어 가며 소인수 배열을 확장하는 형태로 동작한다.\n",
        "\n",
        "```\n",
        " while factor <= number:\n",
        "    if number % factor == 0:\n",
        "      number /= factor\n",
        "      if not factor in result:\n",
        "        result.append(factor)\n",
        "    else:\n",
        "      factor += 1\n",
        "```\n",
        "factor는 기본적으로 2로 설정되었으며, 나누어 떨어진다면 number 값을 나누고 그 값을 다시 number에 저장, 그렇지 않다면 factor를 1 증가시켜(2->3) 반복을 수행한다. 결국 소수가 아닌 수는 소인수로 분리되어 result 배열에 저장될 것이다.\n",
        "\n"
      ],
      "metadata": {
        "id": "gNuMXlItYT1p"
      }
    },
    {
      "cell_type": "markdown",
      "source": [
        "# 도전과제 2\n",
        "다음과 같은 자연수로 만들어진 리스트가 있다.\n",
        "[1,2,3,4,5,6,7,8,9,10]\n",
        "람다 함수를 사용하여 짝수 리스트를 만들어보자.\n",
        "[2,4,6,8,10]"
      ],
      "metadata": {
        "id": "RywVSVfnZIAI"
      }
    },
    {
      "cell_type": "code",
      "source": [
        "num_list=[1,2,3,4,5,6,7,8,9,10]\n",
        "\n",
        "even_num=list(filter(lambda x: x%2==0, num_list))\n",
        "\n",
        "print(even_num)"
      ],
      "metadata": {
        "colab": {
          "base_uri": "https://localhost:8080/"
        },
        "id": "8LeIwNccbHaC",
        "outputId": "28d80530-7c46-4897-b97c-c7dfa575cb17"
      },
      "execution_count": 27,
      "outputs": [
        {
          "output_type": "stream",
          "name": "stdout",
          "text": [
            "[2, 4, 6, 8, 10]\n"
          ]
        }
      ]
    },
    {
      "cell_type": "markdown",
      "source": [
        "해당 과제는 자바의 익명 메소드, C++의 익명 함수, C#의 익명 델리게이트와 같은 역할을 수행할 수 있는 파이썬 람다 문법에 대해 다룬 과제이다.\n",
        "<br>\n",
        "<br>\n",
        "lambda x: x % 2 == 0, 이라는 구문의 설명을 하자면\n",
        "x라는 인수를 갖고, x % 2 == 0의 boolean 연산을 수행한 리턴 값을 가지는 임시 함수를 사용하라는 뜻이다.\n",
        "<br>\n",
        "<br>\n",
        "이 함수로 filter를 수행하여 num list를 필터한 결과물로 짝수데이터만 남게 된다."
      ],
      "metadata": {
        "id": "S74eI6jUrHb7"
      }
    },
    {
      "cell_type": "markdown",
      "source": [
        "# 도전과제 3\n",
        "다음과 같은 리스트가 주어졌다.\n",
        "words = [\"knowledge\", \"hardwork\", \"attitude\"]\n",
        "리스트의 각 요소, 즉 스트링의 길이를 담은 리스트 words_length 를 생성해보자."
      ],
      "metadata": {
        "id": "FxDJEcvjpezR"
      }
    },
    {
      "cell_type": "markdown",
      "source": [
        "해당 과제는 2가지 방법을 이용해서 풀 수 있다.\n",
        "첫 번째 방법은 list comprehension을 이용하는 방법이다.\n",
        "아래와 같은 방식으로 len()을 이용해 list로 word 길이를 저장할 수 있다."
      ],
      "metadata": {
        "id": "YKw4xFy4pxuE"
      }
    },
    {
      "cell_type": "code",
      "source": [
        "words = [\"knowledge\", \"hardwork\", \"attitude\"]\n",
        "words_length = [len(i) for i in words]\n",
        "print(words_length)"
      ],
      "metadata": {
        "id": "qc8cd0Ljpdwo"
      },
      "execution_count": null,
      "outputs": []
    },
    {
      "cell_type": "markdown",
      "source": [
        "마찬가지로 len을 이용하되, map이라는 함수를 이용하면 list comprehension을 이용하지 않고도 개별적으로 word의 길이를 len함수로 추출할 수 있다."
      ],
      "metadata": {
        "id": "CjKNxx-jqGHq"
      }
    },
    {
      "cell_type": "code",
      "source": [
        "words = [\"knowledge\", \"hardwork\", \"attitude\"]\n",
        "words_length = list(map(len, words))\n",
        "print(words_length)"
      ],
      "metadata": {
        "id": "t2b6suDmqFUZ"
      },
      "execution_count": null,
      "outputs": []
    }
  ]
}