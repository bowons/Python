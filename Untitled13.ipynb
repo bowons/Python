{
  "nbformat": 4,
  "nbformat_minor": 0,
  "metadata": {
    "colab": {
      "provenance": [],
      "authorship_tag": "ABX9TyOwAal7GubY+9+Qmb8rEa7l",
      "include_colab_link": true
    },
    "kernelspec": {
      "name": "python3",
      "display_name": "Python 3"
    },
    "language_info": {
      "name": "python"
    }
  },
  "cells": [
    {
      "cell_type": "markdown",
      "metadata": {
        "id": "view-in-github",
        "colab_type": "text"
      },
      "source": [
        "<a href=\"https://colab.research.google.com/github/bowons/Python/blob/main/Untitled13.ipynb\" target=\"_parent\"><img src=\"https://colab.research.google.com/assets/colab-badge.svg\" alt=\"Open In Colab\"/></a>"
      ]
    },
    {
      "cell_type": "markdown",
      "source": [
        "# 파이썬 내장함수 5가지"
      ],
      "metadata": {
        "id": "uXYtrxdlWyu1"
      }
    },
    {
      "cell_type": "markdown",
      "source": [
        "### 1. all() 함수\n",
        "해당 함수는 iterable 객체(리스트, 튜플, 문자열 등)의 각 요소 값이 모두 참이면 참을, 하나라도 거짓이 있으면 거짓을 반환하는 함수이다."
      ],
      "metadata": {
        "id": "wBeEPnoaW5Ms"
      }
    },
    {
      "cell_type": "code",
      "execution_count": 3,
      "metadata": {
        "colab": {
          "base_uri": "https://localhost:8080/"
        },
        "id": "UuJDmi9VWyLS",
        "outputId": "ed96d7b9-12f5-4048-d979-d7256e29241c"
      },
      "outputs": [
        {
          "output_type": "stream",
          "name": "stdout",
          "text": [
            "True\n",
            "False\n"
          ]
        }
      ],
      "source": [
        "list1 = [3>2, True, type('hello') == str, len('hi') == 2]\n",
        "print(all(list1))\n",
        "\n",
        "list1 = [True, True, False, True]\n",
        "print(all(list1))"
      ]
    },
    {
      "cell_type": "markdown",
      "source": [
        "### 2. any() 함수\n",
        "해당 함수는 all 함수의 반대 개념으로, iterable 객의 요소들 중 하나라도 참이 있다면 참을 반환하고 모두 거짓일 경우 거짓을 반환하는 함수이다."
      ],
      "metadata": {
        "id": "hdFtETCnYgjk"
      }
    },
    {
      "cell_type": "code",
      "source": [
        "list1 = [False, False, True, False]\n",
        "print(any(list1))\n",
        "\n",
        "list1 = [False, False]\n",
        "print(any(list1))"
      ],
      "metadata": {
        "colab": {
          "base_uri": "https://localhost:8080/"
        },
        "id": "7h0ddxyaYztK",
        "outputId": "909feb4b-8d14-4d39-c258-c52bc3cc6efe"
      },
      "execution_count": 4,
      "outputs": [
        {
          "output_type": "stream",
          "name": "stdout",
          "text": [
            "True\n",
            "False\n"
          ]
        }
      ]
    },
    {
      "cell_type": "markdown",
      "source": [
        "### 3. enumerate() 함수\n",
        "해당 함수는 인자로 받은 iterable 객체에 대해 요소의 값과 해당 요소의 인덱스를 포함한 튜플을 반환하는 함수이다. 반복문에서 유용하게 사용할 수 있다.\n",
        "\n"
      ],
      "metadata": {
        "id": "8RZ4thg-Y_87"
      }
    },
    {
      "cell_type": "code",
      "source": [
        "# 인덱스의 시작값을 변경하여 순회하기\n",
        "fruits = ['apple', 'banana', 'cherry']\n",
        "for index, fruit in enumerate(fruits, start=1):\n",
        "    print(index, fruit)"
      ],
      "metadata": {
        "colab": {
          "base_uri": "https://localhost:8080/"
        },
        "id": "CkgbtBtjZmfb",
        "outputId": "d96e8390-9159-4e15-a29f-2a1b57958922"
      },
      "execution_count": 5,
      "outputs": [
        {
          "output_type": "stream",
          "name": "stdout",
          "text": [
            "1 apple\n",
            "2 banana\n",
            "3 cherry\n"
          ]
        }
      ]
    },
    {
      "cell_type": "markdown",
      "source": [
        "### 4. iter() 함수\n",
        "해당 함수는 주어진 iterable 인자의 iterator를 반환한다.\n",
        "- iterator란 순회 가능한 iterable객체의 요소를 하나 하나 차례대로 반환할 수 있는 객체를 말한다.\n",
        "- next() 함수를 통해 iterable 객체의 다음 요소를 확인할 수 있다.\n",
        "\n",
        "아래는 그 사용 예이다.\n"
      ],
      "metadata": {
        "id": "lUDLHfVQZtIV"
      }
    },
    {
      "cell_type": "code",
      "source": [
        "# 리스트를 이터레이터로 변환하여 순회하기\n",
        "my_list = [1, 2, 3, 4, 5]\n",
        "my_iter = iter(my_list)\n",
        "\n",
        "print(next(my_iter))  # 1\n",
        "print(next(my_iter))  # 2\n",
        "print(next(my_iter))  # 3"
      ],
      "metadata": {
        "colab": {
          "base_uri": "https://localhost:8080/"
        },
        "id": "lK45o2DNa-ey",
        "outputId": "96c16a64-1d47-4e34-ca57-11c3a2fc11cd"
      },
      "execution_count": 6,
      "outputs": [
        {
          "output_type": "stream",
          "name": "stdout",
          "text": [
            "1\n",
            "2\n",
            "3\n"
          ]
        }
      ]
    },
    {
      "cell_type": "markdown",
      "source": [
        "### 5. zip() 함수\n",
        "해당 함수는 여러개의 iterable객체를 인자로 받아 같은 인덱스에 위치한 요소들을 묶어 튜플 형태로 반환하는 함수이다.\n",
        "\n",
        "아래는 그 사용 예이다."
      ],
      "metadata": {
        "id": "8Yihs6nJbCDM"
      }
    },
    {
      "cell_type": "code",
      "source": [
        "numbers = [1, 2, 3]\n",
        "letters = ['a', 'b', 'c']\n",
        "zipped = zip(numbers, letters)\n",
        "print(list(zipped))  # [(1, 'a'), (2, 'b'), (3, 'c')]"
      ],
      "metadata": {
        "id": "Cx8Cw28BbQ79",
        "outputId": "480e8057-0694-4f39-c704-35d172d42d2e",
        "colab": {
          "base_uri": "https://localhost:8080/"
        }
      },
      "execution_count": 7,
      "outputs": [
        {
          "output_type": "stream",
          "name": "stdout",
          "text": [
            "[(1, 'a'), (2, 'b'), (3, 'c')]\n"
          ]
        }
      ]
    }
  ]
}